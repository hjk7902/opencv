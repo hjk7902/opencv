{
 "cells": [
  {
   "cell_type": "code",
   "execution_count": 1,
   "metadata": {
    "ExecuteTime": {
     "end_time": "2020-06-18T00:40:27.886623Z",
     "start_time": "2020-06-18T00:40:27.855423Z"
    }
   },
   "outputs": [
    {
     "data": {
      "text/html": [
       "<style>div.container { width:100% !important; }</style>"
      ],
      "text/plain": [
       "<IPython.core.display.HTML object>"
      ]
     },
     "metadata": {},
     "output_type": "display_data"
    }
   ],
   "source": [
    "from IPython.display import display, HTML\n",
    "display(HTML(\"<style>div.container { width:100% !important; }</style>\"))"
   ]
  },
  {
   "cell_type": "markdown",
   "metadata": {},
   "source": [
    "# 객체 탐지 원리"
   ]
  },
  {
   "cell_type": "markdown",
   "metadata": {},
   "source": [
    "## 라벨링"
   ]
  },
  {
   "cell_type": "code",
   "execution_count": 2,
   "metadata": {},
   "outputs": [],
   "source": [
    "import cv2"
   ]
  },
  {
   "cell_type": "markdown",
   "metadata": {},
   "source": [
    "### labelset"
   ]
  },
  {
   "cell_type": "code",
   "execution_count": 3,
   "metadata": {},
   "outputs": [],
   "source": [
    "def labelset(img, xs, ys, label):\n",
    "    height, width = img.shape\n",
    "    img[ys, xs] = label\n",
    "    while True:\n",
    "        cnt = 0\n",
    "        for y in range(1, height-1):\n",
    "            for x in range(1, width-1):\n",
    "                if img[y,x] == label :\n",
    "                    if  img[y  , x+1] == 255 :\n",
    "                        img[y  , x+1] = label; cnt = cnt+1\n",
    "                    if  img[y-1, x+1] == 255 :\n",
    "                        img[y-1, x+1] = label; cnt = cnt+1\n",
    "                    if  img[y-1, x  ] == 255 :\n",
    "                        img[y-1, x  ] = label; cnt = cnt+1\n",
    "                    if  img[y-1, x-1] == 255 :\n",
    "                        img[y-1, x-1] = label; cnt = cnt+1\n",
    "                    if  img[y  , x-1] == 255 :\n",
    "                        img[y  , x-1] = label; cnt = cnt+1\n",
    "                    if  img[y+1, x-1] == 255 :\n",
    "                        img[y+1, x-1] = label; cnt = cnt+1\n",
    "                    if  img[y+1, x  ] == 255 :\n",
    "                        img[y+1, x  ] = label; cnt = cnt+1\n",
    "                    if  img[y+1, x+1] == 255 :\n",
    "                        img[y+1, x+1] = label; cnt = cnt+1\n",
    "        if cnt==0:\n",
    "            return (0, img)\n",
    "    return (1, img)"
   ]
  },
  {
   "cell_type": "markdown",
   "metadata": {},
   "source": [
    "### labeling"
   ]
  },
  {
   "cell_type": "code",
   "execution_count": 4,
   "metadata": {},
   "outputs": [],
   "source": [
    "def labeling(img_in, base=100):\n",
    "    height, width = img_in.shape\n",
    "    img_label = img_in.copy()\n",
    "            \n",
    "    label = base # 베이스 값부터 라벨링 함\n",
    "    \n",
    "    for y in range(1, height-1):\n",
    "        for x in range(1, width-1):\n",
    "            if img_label[y,x] == 255 :\n",
    "                if label >= 255:\n",
    "                    print(\"Error! too many labels\")\n",
    "                    return -1\n",
    "                \n",
    "                _, img_label = labelset(img_label, x, y, label)\n",
    "                label = label + 1\n",
    "    cnt = label - base\n",
    "    \n",
    "    return img_label, cnt"
   ]
  },
  {
   "cell_type": "code",
   "execution_count": 5,
   "metadata": {},
   "outputs": [],
   "source": [
    "img = cv2.imread('images/shape.png', 0)\n",
    "cv2.imshow('image', img)\n",
    "cv2.waitKey(0)\n",
    "cv2.destroyAllWindows()"
   ]
  },
  {
   "cell_type": "code",
   "execution_count": 6,
   "metadata": {},
   "outputs": [
    {
     "name": "stdout",
     "output_type": "stream",
     "text": [
      "객체 수 4\n"
     ]
    }
   ],
   "source": [
    "img = cv2.imread('images/shape.png', 0)\n",
    "ret, bin_img = cv2.threshold(img, 128, 255, cv2.THRESH_BINARY)\n",
    "labeled_img, cnt = labeling(bin_img)\n",
    "print(\"객체 수\", cnt)"
   ]
  },
  {
   "cell_type": "code",
   "execution_count": 7,
   "metadata": {},
   "outputs": [
    {
     "data": {
      "text/plain": [
       "(100, 101, 102, 103)"
      ]
     },
     "execution_count": 7,
     "metadata": {},
     "output_type": "execute_result"
    }
   ],
   "source": [
    "# 원, A, 세모, 네모 안의 임의 좌표\n",
    "labeled_img[80, 80],labeled_img[69,173], labeled_img[160,190], labeled_img[160,60] "
   ]
  },
  {
   "cell_type": "code",
   "execution_count": 8,
   "metadata": {},
   "outputs": [],
   "source": [
    "# labeled_img.shape\n",
    "cv2.imshow('Labeling', labeled_img)\n",
    "cv2.waitKey(0)\n",
    "cv2.destroyAllWindows()"
   ]
  },
  {
   "cell_type": "code",
   "execution_count": 9,
   "metadata": {
    "scrolled": true
   },
   "outputs": [
    {
     "data": {
      "text/plain": [
       "True"
      ]
     },
     "execution_count": 9,
     "metadata": {},
     "output_type": "execute_result"
    }
   ],
   "source": [
    "cv2.imwrite('shape_labeled.png',labeled_img)"
   ]
  },
  {
   "cell_type": "markdown",
   "metadata": {},
   "source": [
    "## 경계 찾기와 주위 길이 계산"
   ]
  },
  {
   "cell_type": "markdown",
   "metadata": {},
   "source": [
    "### trace() 함수"
   ]
  },
  {
   "cell_type": "code",
   "execution_count": 10,
   "metadata": {},
   "outputs": [],
   "source": [
    "def trace(image_label, xs, ys):\n",
    "    length = 0\n",
    "    x, y = xs, ys\n",
    "    no = image_label[y,x+1]\n",
    "    vec = 5\n",
    "    \n",
    "    while True:\n",
    "        if (x==xs) & (y==ys) & (length!=0):\n",
    "            return (length, image_label)\n",
    "        image_label[y,x] = 255\n",
    "#         if no==101:\n",
    "#             print(x,y)\n",
    "\n",
    "        if vec==3:\n",
    "            if (image_label[y  ,x+1]!=no) & (image_label[y-1,x+1]==no):\n",
    "                x=x+1; y=y  ; length=length+1;          vec=0; continue\n",
    "            else:\n",
    "                vec=4\n",
    "        if vec==4:\n",
    "            if (image_label[y-1,x+1]!=no) & (image_label[y-1,x  ]==no):\n",
    "                x=x+1; y=y-1; length=length+np.sqrt(2); vec=1; continue\n",
    "            else:\n",
    "                vec=5\n",
    "        if vec==5:\n",
    "            if (image_label[y-1,x  ]!=no) & (image_label[y-1,x-1]==no):\n",
    "                x=x  ; y=y-1; length=length+1;          vec=2; continue\n",
    "            else:\n",
    "                vec=6\n",
    "        if vec==6:\n",
    "            if (image_label[y-1,x-1]!=no) & (image_label[y  ,x-1]==no):\n",
    "                x=x-1; y=y-1; length=length+np.sqrt(2); vec=3; continue\n",
    "            else:\n",
    "                vec=7\n",
    "        if vec==7:\n",
    "            if (image_label[y  ,x-1]!=no) & (image_label[y+1,x-1]==no):\n",
    "                x=x-1; y=y  ; length=length+1;          vec=4; continue\n",
    "            else:\n",
    "                vec=0\n",
    "        if vec==0:\n",
    "            if (image_label[y+1,x-1]!=no) & (image_label[y+1,x  ]==no):\n",
    "                x=x-1; y=y+1; length=length+np.sqrt(2); vec=5; continue\n",
    "            else:\n",
    "                vec=1\n",
    "        if vec==1:\n",
    "            if (image_label[y+1,x  ]!=no) & (image_label[y+1,x+1]==no):\n",
    "                x=x  ; y=y+1; length=length+1;          vec=6; continue\n",
    "            else:\n",
    "                vec=2\n",
    "        if vec==2:\n",
    "            if (image_label[y+1,x+1]!=no) & (image_label[y  ,x+1]==no):\n",
    "                x=x+1; y=y+1; length=length+np.sqrt(2); vec=7; continue\n",
    "            else:\n",
    "                vec=3\n",
    "    "
   ]
  },
  {
   "cell_type": "markdown",
   "metadata": {},
   "source": [
    "### contour_length"
   ]
  },
  {
   "cell_type": "code",
   "execution_count": 11,
   "metadata": {},
   "outputs": [],
   "source": [
    "def contour_length(image_label, label):\n",
    "    height, width = image_label.shape\n",
    "    for y in range(height):\n",
    "        for x in range(width):\n",
    "            if image_label[y,x] == label:\n",
    "                length, image_label = trace(image_label, x-1, y)\n",
    "                return length, image_label"
   ]
  },
  {
   "cell_type": "code",
   "execution_count": 12,
   "metadata": {},
   "outputs": [
    {
     "name": "stdout",
     "output_type": "stream",
     "text": [
      "263.7645019878176\n"
     ]
    }
   ],
   "source": [
    "import numpy as np\n",
    "img = cv2.imread('images/shape.png', 0)\n",
    "ret, bin_img = cv2.threshold(img, 128, 255, cv2.THRESH_BINARY)\n",
    "labeled_img, cnt = labeling(bin_img, 100)\n",
    "length, contour_image = contour_length(labeled_img, 100)\n",
    "print(length)\n",
    "cv2.imshow('Contour', contour_image)\n",
    "cv2.waitKey(0)\n",
    "cv2.destroyAllWindows()"
   ]
  },
  {
   "cell_type": "markdown",
   "metadata": {},
   "source": [
    "## 특징 파라미터"
   ]
  },
  {
   "cell_type": "markdown",
   "metadata": {},
   "source": [
    "### 면적과 중심위치"
   ]
  },
  {
   "cell_type": "code",
   "execution_count": 13,
   "metadata": {},
   "outputs": [],
   "source": [
    "def contour_area(image_label, label):\n",
    "    tx, ty = 0, 0\n",
    "    cx, cy = 0, 0 # 반환할 중심점\n",
    "    total = 0\n",
    "    height, width = image_label.shape\n",
    "    for y in range(height):\n",
    "        for x in range(width):\n",
    "            if image_label[y,x]==label:\n",
    "                tx = tx + x\n",
    "                ty = ty + y\n",
    "                total = total + 1\n",
    "    if total==0:\n",
    "        return 0\n",
    "    cx = int(tx/total)\n",
    "    cy = int(ty/total)\n",
    "    return (cx, cy, total)"
   ]
  },
  {
   "cell_type": "code",
   "execution_count": 14,
   "metadata": {},
   "outputs": [
    {
     "name": "stdout",
     "output_type": "stream",
     "text": [
      "76 79 4880\n",
      "172 87 1797\n",
      "192 168 1108\n",
      "81 163 2759\n"
     ]
    }
   ],
   "source": [
    "import cv2\n",
    "\n",
    "img = cv2.imread('images/shape.png', 0)\n",
    "ret, bin_img = cv2.threshold(img, 128, 255, cv2.THRESH_BINARY)\n",
    "labeled_img, cnt = labeling(bin_img, base=100)\n",
    "for i in range(cnt):\n",
    "    cx, cy, area = contour_area(labeled_img, i+100)\n",
    "    print(cx, cy, area)"
   ]
  },
  {
   "cell_type": "markdown",
   "metadata": {},
   "source": [
    "### 원형도"
   ]
  },
  {
   "cell_type": "code",
   "execution_count": 15,
   "metadata": {},
   "outputs": [
    {
     "name": "stdout",
     "output_type": "stream",
     "text": [
      "0.8814486001080429\n",
      "0.4382536609116099\n",
      "0.49200158512447256\n",
      "0.5936949146124189\n"
     ]
    }
   ],
   "source": [
    "import cv2\n",
    "\n",
    "img = cv2.imread('images/shape.png', 0)\n",
    "ret, bin_img = cv2.threshold(img, 128, 255, cv2.THRESH_BINARY)\n",
    "labeled_img, cnt = labeling(bin_img, base=100)\n",
    "for i in range(cnt):\n",
    "    cx, cy, area = contour_area(labeled_img, i+100)\n",
    "    length, featured_img = contour_length(labeled_img, i+100)\n",
    "    ratio = 4*np.pi*area / (length*length)\n",
    "    print(ratio)"
   ]
  },
  {
   "cell_type": "markdown",
   "metadata": {},
   "source": [
    "### features"
   ]
  },
  {
   "cell_type": "code",
   "execution_count": 16,
   "metadata": {},
   "outputs": [],
   "source": [
    "import numpy as np\n",
    "def features(image_label, cnt):\n",
    "    areas = []; centers = []; lengths = []; ratios = []\n",
    "    featured_img = np.zeros(image_label.shape, dtype=np.uint8)\n",
    "    for i in range(cnt):\n",
    "        cx, cy, area = contour_area(image_label, i+100)\n",
    "        centers.append((cx, cy)); areas.append(area)\n",
    "#         print(i+100, cx, cy, area, end=\" \")\n",
    "        \n",
    "        length, featured_img = contour_length(image_label, i+100)\n",
    "        lengths.append(length)\n",
    "        ratio = 4*np.pi*area / (length*length)\n",
    "        ratios.append(ratio)\n",
    "#         print(length, ratio)\n",
    "    \n",
    "    return ((areas, centers, lengths, ratios), featured_img)"
   ]
  },
  {
   "cell_type": "markdown",
   "metadata": {},
   "source": [
    "### 실행"
   ]
  },
  {
   "cell_type": "code",
   "execution_count": 17,
   "metadata": {},
   "outputs": [
    {
     "name": "stdout",
     "output_type": "stream",
     "text": [
      "[4880, 1797, 1108, 2759]\n",
      "[(76, 79), (172, 87), (192, 168), (81, 163)]\n",
      "[263.7645019878176, 226.99494936611694, 168.2253967444163, 241.6568542494924]\n",
      "[0.8814486001080429, 0.4382536609116099, 0.49200158512447256, 0.5936949146124189]\n"
     ]
    }
   ],
   "source": [
    "img = cv2.imread('images/shape.png', 0)\n",
    "ret, bin_img = cv2.threshold(img, 128, 255, cv2.THRESH_BINARY)\n",
    "labeled_img, cnt = labeling(bin_img, 100)\n",
    "feat, featured_img = features(labeled_img, cnt)\n",
    "areas, centers, lengths, ratios = feat\n",
    "print(areas)\n",
    "print(centers)\n",
    "print(lengths)\n",
    "print(ratios)"
   ]
  },
  {
   "cell_type": "code",
   "execution_count": 18,
   "metadata": {},
   "outputs": [],
   "source": [
    "cv2.imshow('Featured', featured_img)\n",
    "cv2.waitKey(0)\n",
    "cv2.destroyAllWindows()"
   ]
  },
  {
   "cell_type": "code",
   "execution_count": 19,
   "metadata": {},
   "outputs": [
    {
     "data": {
      "text/plain": [
       "True"
      ]
     },
     "execution_count": 19,
     "metadata": {},
     "output_type": "execute_result"
    }
   ],
   "source": [
    "cv2.imwrite('shape_featured.png',featured_img)"
   ]
  },
  {
   "cell_type": "markdown",
   "metadata": {},
   "source": [
    "# OpenCV를 이용한 객체 탐지"
   ]
  },
  {
   "cell_type": "markdown",
   "metadata": {},
   "source": [
    "## 라벨링과 경계 찾기"
   ]
  },
  {
   "cell_type": "markdown",
   "metadata": {},
   "source": [
    "### cv2.connectedComponents()"
   ]
  },
  {
   "cell_type": "code",
   "execution_count": 20,
   "metadata": {},
   "outputs": [],
   "source": [
    "import cv2\n",
    "\n",
    "img = cv2.imread('images/shape.png', 0)\n",
    "ret, bin_img = cv2.threshold(img, 128, 255, cv2.THRESH_BINARY)\n",
    "cnt, labeled_img = cv2.connectedComponents(bin_img)"
   ]
  },
  {
   "cell_type": "code",
   "execution_count": 21,
   "metadata": {},
   "outputs": [
    {
     "name": "stdout",
     "output_type": "stream",
     "text": [
      "객체 수 5\n",
      "1 2 3 4\n"
     ]
    }
   ],
   "source": [
    "print(\"객체 수\", cnt)\n",
    "\n",
    "print(labeled_img[80,80], labeled_img[69,173], end=\" \")\n",
    "print(labeled_img[160,190], labeled_img[160,60])"
   ]
  },
  {
   "cell_type": "code",
   "execution_count": 22,
   "metadata": {},
   "outputs": [
    {
     "data": {
      "text/plain": [
       "dtype('int32')"
      ]
     },
     "execution_count": 22,
     "metadata": {},
     "output_type": "execute_result"
    }
   ],
   "source": [
    "labeled_img.dtype"
   ]
  },
  {
   "cell_type": "code",
   "execution_count": 23,
   "metadata": {},
   "outputs": [],
   "source": [
    "labeled_img = labeled_img*50\n",
    "import numpy as np\n",
    "\n",
    "cv2.imshow('Labeling', labeled_img.astype(np.uint8))\n",
    "cv2.waitKey(0)\n",
    "cv2.destroyAllWindows()"
   ]
  },
  {
   "cell_type": "markdown",
   "metadata": {},
   "source": [
    "### cv2.findContours()"
   ]
  },
  {
   "cell_type": "markdown",
   "metadata": {},
   "source": [
    "### cv2.drawContours()"
   ]
  },
  {
   "cell_type": "code",
   "execution_count": 24,
   "metadata": {},
   "outputs": [],
   "source": [
    "import cv2\n",
    "import numpy as np\n",
    "\n",
    "img = cv2.imread('images/shape.png')\n",
    "imgray = cv2.cvtColor(img,cv2.COLOR_BGR2GRAY)\n",
    "\n",
    "ret, bin_img  = cv2.threshold(imgray,127,255,0)\n",
    "\n",
    "contours, hierachy = cv2.findContours(bin_img, \n",
    "                                      cv2.RETR_TREE,\n",
    "                                      cv2.CHAIN_APPROX_SIMPLE)\n",
    "\n",
    "image = cv2.drawContours(img, contours, -1, (0,255,0), 3)\n",
    "\n",
    "cv2.imshow('Contours', image)\n",
    "cv2.waitKey(0)\n",
    "cv2.destroyAllWindows()"
   ]
  },
  {
   "cell_type": "code",
   "execution_count": 25,
   "metadata": {},
   "outputs": [],
   "source": [
    "import cv2\n",
    "import numpy as np\n",
    "\n",
    "img = cv2.imread('images/lena.jpg')\n",
    "imgray = cv2.cvtColor(img,cv2.COLOR_BGR2GRAY)\n",
    "\n",
    "ret, bin_img  = cv2.threshold(imgray,127,255,0)\n",
    "\n",
    "contours, hierachy = cv2.findContours(bin_img, \n",
    "                                      cv2.RETR_TREE,\n",
    "                                      cv2.CHAIN_APPROX_SIMPLE)\n",
    "\n",
    "image = cv2.drawContours(img, contours, -1, (0,255,0), 3)\n",
    "\n",
    "cv2.imshow('image', image)\n",
    "cv2.waitKey(0)\n",
    "cv2.destroyAllWindows()"
   ]
  },
  {
   "cell_type": "markdown",
   "metadata": {},
   "source": [
    "## 객체 정보"
   ]
  },
  {
   "cell_type": "markdown",
   "metadata": {},
   "source": [
    "### 모멘트"
   ]
  },
  {
   "cell_type": "code",
   "execution_count": 26,
   "metadata": {},
   "outputs": [],
   "source": [
    "import numpy as np\n",
    "\n",
    "def get_moments(img):\n",
    "    M = {}\n",
    "    x, y = np.mgrid[:img.shape[0],:img.shape[1]]\n",
    "    img = img.astype(float)\n",
    "    # 공간 모멘트 \n",
    "    M['m00'] = np.sum(img)\n",
    "    M['m01'] = np.sum(y*img)\n",
    "    M['m10'] = np.sum(x*img)\n",
    "    M['m11'] = np.sum(x*y*img)\n",
    "    M['m02'] = np.sum(y**2*img)\n",
    "    M['m20'] = np.sum(x**2*img)\n",
    "    M['m12'] = np.sum(x**2*y*img)\n",
    "    M['m21'] = np.sum(x*y**2*img)\n",
    "    M['m22'] = np.sum(x**2*y**2*img)\n",
    "    M['m03'] = np.sum(x**3*img)\n",
    "    M['m30'] = np.sum(y**3*img)\n",
    " \n",
    "    # 이미지 중심 \n",
    "    cX = M['m10'] / M['m00']\n",
    "    cY = M['m01'] / M['m00']\n",
    " \n",
    "    # 중심 모멘트 \n",
    "    M['mu00'] = M['m00']\n",
    "    M['mu01'] = 0 \n",
    "    M['mu10'] = 0 \n",
    "    M['mu11'] = np.sum((x-cX)*(y-cY)*img)\n",
    "    M['mu02'] = np.sum((x-cX)**2*img)\n",
    "    M['mu20'] = np.sum((y-cY)**2*img)\n",
    "    M['mu12'] = np.sum((x-cX)**2*(y-cY)*img)\n",
    "    M['mu21'] = np.sum((x-cX)*(y-cY)**2*img)\n",
    "    M['mu03'] = np.sum((x-cX)**3*img)\n",
    "    M['mu30'] = np.sum((y-cY)**3*img)\n",
    "\n",
    "    # 정규화된 중심 모멘트 \n",
    "    M['nu00'] = 1 \n",
    "    M['nu01'] = 0 \n",
    "    M['nu10'] = 0 \n",
    "    M['nu11'] = M['mu11'] / M['mu00']**(2/2+1)\n",
    "    M['nu02'] = M['mu02'] / M['mu00']**(2/2+1)\n",
    "    M['nu20'] = M['mu20'] / M['mu00']**(2/2+1)\n",
    "    M['nu12'] = M['mu12'] / M['mu00']**(3/2+1)\n",
    "    M['nu21'] = M['mu21'] / M['mu00']**(3/2+1)\n",
    "    M['nu03'] = M['mu03'] / M['mu00']**(3/2+1)\n",
    "    M['nu30'] = M['mu30'] / M['mu00']**(3/2+1)\n",
    " \n",
    "    return M"
   ]
  },
  {
   "cell_type": "code",
   "execution_count": 27,
   "metadata": {},
   "outputs": [
    {
     "name": "stdout",
     "output_type": "stream",
     "text": [
      "dict_items([('m00', 2688720.0), ('m01', 284959695.0), ('m10', 300861495.0), ('m11', 32849201745.0), ('m02', 36926195805.0), ('m20', 38710487925.0), ('m12', 4322818373835.0), ('m21', 4398836072445.0), ('m22', 593249327976495.0), ('m03', 5514704232795.0), ('m30', 5552696245215.0), ('mu00', 2688720.0), ('mu01', 0), ('mu10', 0), ('mu11', 962876708.386286), ('mu02', 5044788568.564587), ('mu20', 6725197644.353661), ('mu12', 4661821876.916954), ('mu21', 62783013426.67582), ('mu03', 54090806819.27515), ('mu30', 213613695450.5935), ('nu00', 1), ('nu01', 0), ('nu10', 0), ('nu11', 0.0001331924249912628), ('nu02', 0.000697833499515657), ('nu20', 0.0009302804554263222), ('nu12', 3.9327082693258106e-07), ('nu21', 5.296368728690485e-06), ('nu03', 4.563095049297564e-06), ('nu30', 1.8020429967508165e-05)])\n"
     ]
    }
   ],
   "source": [
    "import cv2\n",
    "import numpy as np\n",
    "\n",
    "img_gray = cv2.imread('images/shape.png', cv2.IMREAD_GRAYSCALE)\n",
    "M = get_moments(img_gray)\n",
    "print(M.items())"
   ]
  },
  {
   "cell_type": "markdown",
   "metadata": {},
   "source": [
    "### cv2.moments()"
   ]
  },
  {
   "cell_type": "code",
   "execution_count": 28,
   "metadata": {},
   "outputs": [
    {
     "name": "stdout",
     "output_type": "stream",
     "text": [
      "dict_items([('m00', 2688720.0), ('m10', 284959695.0), ('m01', 300861495.0), ('m20', 36926195805.0), ('m11', 32849201745.0), ('m02', 38710487925.0), ('m30', 5552696245215.0), ('m21', 4398836072445.0), ('m12', 4322818373835.0), ('m03', 5514704232795.0), ('mu20', 6725197644.353661), ('mu11', 962876708.3862839), ('mu02', 5044788568.564587), ('mu30', 213613695450.59375), ('mu21', 62783013426.6763), ('mu12', 4661821876.91745), ('mu03', 54090806819.27539), ('nu20', 0.0009302804554263222), ('nu11', 0.0001331924249912625), ('nu02', 0.000697833499515657), ('nu30', 1.802042996750819e-05), ('nu21', 5.2963687286905265e-06), ('nu12', 3.9327082693262293e-07), ('nu03', 4.563095049297585e-06)])\n"
     ]
    }
   ],
   "source": [
    "import cv2\n",
    "import numpy as np\n",
    "\n",
    "img_gray = cv2.imread('images/shape.png', cv2.IMREAD_GRAYSCALE)\n",
    "M = cv2.moments(img_gray)\n",
    "print(M.items())"
   ]
  },
  {
   "cell_type": "markdown",
   "metadata": {},
   "source": [
    "### cv2.contourArea()"
   ]
  },
  {
   "cell_type": "markdown",
   "metadata": {},
   "source": [
    "### cv2.arcLength()"
   ]
  },
  {
   "cell_type": "code",
   "execution_count": 29,
   "metadata": {},
   "outputs": [
    {
     "name": "stdout",
     "output_type": "stream",
     "text": [
      "dict_items([('m00', 2640.0), ('m10', 213840.0), ('m01', 430320.0), ('m20', 19024720.0), ('m11', 34855920.0), ('m02', 70340160.0), ('m30', 1816998480.0), ('m21', 3101029360.0), ('m12', 5697552960.0), ('m03', 11529994080.0), ('mu20', 1703680.0), ('mu11', 0.0), ('mu02', 198000.0), ('mu30', 0.0), ('mu21', 0.0), ('mu12', 0.0), ('mu03', 0.0), ('nu20', 0.24444444444444446), ('nu11', 0.0), ('nu02', 0.02840909090909091), ('nu30', 0.0), ('nu21', 0.0), ('nu12', 0.0), ('nu03', 0.0)])\n",
      "2640.0\n",
      "236.0\n",
      "dict_items([('m00', 1034.0), ('m10', 198528.0), ('m01', 174221.3333333333), ('m20', 38184238.0), ('m11', 33450496.0), ('m02', 29513652.333333332), ('m30', 7357048704.0), ('m21', 6434229694.833333), ('m12', 5666621248.0), ('m03', 5025178420.0), ('mu20', 66862.0), ('mu11', 3.725290298461914e-09), ('mu02', 158649.44315495715), ('mu30', 0.0), ('mu21', 468711.58639460243), ('mu12', -1.1920928955078125e-06), ('mu03', -1115676.79678154), ('nu20', 0.0625371788588382), ('nu11', 3.4843281040951126e-15), ('nu02', 0.14838755350478056), ('nu30', 0.0), ('nu21', 0.013633405192293172), ('nu12', -3.467438387074438e-14), ('nu03', -0.03245167022894321)])\n",
      "1034.0\n",
      "162.56854152679443\n",
      "dict_items([('m00', 1768.0), ('m10', 305196.5), ('m01', 155029.0), ('m20', 52964544.83333333), ('m11', 26755447.833333332), ('m02', 13991422.333333332), ('m30', 9239798139.25), ('m21', 4645066860.316667), ('m12', 2414167327.5833335), ('m03', 1294375620.7), ('mu20', 280775.8218796998), ('mu11', -6038.704279795289), ('mu02', 397536.11104826257), ('mu30', -8027.87162399292), ('mu21', 2898060.4606841505), ('mu12', -7320.3711812496185), ('mu03', -2194212.1245110035), ('nu20', 0.08982457805676196), ('nu11', -0.0019318759724780699), ('nu02', 0.12717802123480487), ('nu30', -6.107940070894423e-05), ('nu21', 0.022049654559477404), ('nu12', -5.5696441804255144e-05), ('nu03', -0.016694482407127943)])\n",
      "1768.0\n",
      "221.33809351921082\n",
      "dict_items([('m00', 86.0), ('m10', 14887.0), ('m01', 7466.666666666666), ('m20', 2577449.0), ('m11', 1292483.6666666665), ('m02', 649313.0), ('m30', 446320691.5), ('m21', 223768503.36666667), ('m12', 112393755.5), ('m03', 56554003.6), ('mu20', 440.05813953466713), ('mu11', -31.062015504110605), ('mu02', 1044.2661498708185), ('mu30', -70.75635474920273), ('mu21', 739.4959258552699), ('mu12', 48.85385497435345), ('mu03', -1788.3516054749489), ('nu20', 0.05949947803335141), ('nu11', -0.004199839846418416), ('nu02', 0.1411933680193102), ('nu30', -0.0010316189770650094), ('nu21', 0.010781759932073825), ('nu12', 0.0007122832157332513), ('nu03', -0.026073947144562615)])\n",
      "86.0\n",
      "40.97056245803833\n",
      "dict_items([('m00', 4769.0), ('m10', 362652.5), ('m01', 376915.0), ('m20', 29386788.333333332), ('m11', 28660331.75), ('m02', 31600039.5), ('m30', 2509869073.25), ('m21', 2322307277.5833335), ('m12', 2402708186.25), ('m03', 2783722821.5), ('mu20', 1809343.2177430615), ('mu11', -1686.92005661875), ('mu02', 1810792.8602432348), ('mu30', 9996.168998241425), ('mu21', -3016.630687713623), ('mu12', -9715.580042093992), ('mu03', 3201.03875875473), ('nu20', 0.07955478602054734), ('nu11', -7.417197733522105e-05), ('nu02', 0.07961852517063045), ('nu30', 6.364514551103399e-06), ('nu21', -1.920674801580091e-06), ('nu12', -6.185864860947758e-06), ('nu03', 2.03808656719635e-06)])\n",
      "4769.0\n",
      "258.1076476573944\n"
     ]
    }
   ],
   "source": [
    "import cv2\n",
    "import numpy as np\n",
    "\n",
    "img = cv2.imread('images/shape.png')\n",
    "imgray = cv2.cvtColor(img,cv2.COLOR_BGR2GRAY)\n",
    "\n",
    "ret, bin_img  = cv2.threshold(imgray,127,255,0)\n",
    "\n",
    "contours, hierachy = cv2.findContours(bin_img, \n",
    "                                      cv2.RETR_TREE,\n",
    "                                      cv2.CHAIN_APPROX_SIMPLE)\n",
    "\n",
    "for cont in contours:\n",
    "    M = cv2.moments(cont)\n",
    "    print(M.items())\n",
    "    center_x = int(M['m10'] / M['m00'])\n",
    "    center_y = int(M['m01'] / M['m00'])\n",
    "    \n",
    "    cv2.circle(img, (center_x, center_y), 3, (255, 0, 0), -1)\n",
    "    cv2.drawContours(img, [cont], 0, (0, 0, 255), 2)\n",
    "    print(cv2.contourArea(cont))\n",
    "    print(cv2.arcLength(cont, True))\n",
    "    \n",
    "cv2.imshow('Moments', img)\n",
    "cv2.waitKey(0)\n",
    "cv2.destroyAllWindows()"
   ]
  },
  {
   "cell_type": "code",
   "execution_count": 30,
   "metadata": {},
   "outputs": [
    {
     "name": "stdout",
     "output_type": "stream",
     "text": [
      "dict_items([('m00', 2640.0), ('m10', 213840.0), ('m01', 430320.0), ('m20', 19024720.0), ('m11', 34855920.0), ('m02', 70340160.0), ('m30', 1816998480.0), ('m21', 3101029360.0), ('m12', 5697552960.0), ('m03', 11529994080.0), ('mu20', 1703680.0), ('mu11', 0.0), ('mu02', 198000.0), ('mu30', 0.0), ('mu21', 0.0), ('mu12', 0.0), ('mu03', 0.0), ('nu20', 0.24444444444444446), ('nu11', 0.0), ('nu02', 0.02840909090909091), ('nu30', 0.0), ('nu21', 0.0), ('nu12', 0.0), ('nu03', 0.0)])\n"
     ]
    }
   ],
   "source": [
    "#-*- coding:utf-8 -*-\n",
    "import cv2\n",
    "import numpy as np\n",
    "\n",
    "img = cv2.imread('images/shape.png')\n",
    "imgray = cv2.cvtColor(img,cv2.COLOR_BGR2GRAY)\n",
    "ret, bin_img = cv2.threshold(imgray,127,255,0)\n",
    "\n",
    "contours, hierachy = cv2.findContours(bin_img, \n",
    "                                      cv2.RETR_TREE, \n",
    "                                      cv2.CHAIN_APPROX_SIMPLE)\n",
    "\n",
    "cnt = contours[0] # 첫번째 contours의 특징추출\n",
    "M = cv2.moments(cnt, binaryImage=False)\n",
    "\n",
    "print(M.items())"
   ]
  },
  {
   "cell_type": "code",
   "execution_count": 31,
   "metadata": {},
   "outputs": [
    {
     "data": {
      "text/plain": [
       "2640.0"
      ]
     },
     "execution_count": 31,
     "metadata": {},
     "output_type": "execute_result"
    }
   ],
   "source": [
    "cv2.contourArea(cnt) # 면적, m00과 같음"
   ]
  },
  {
   "cell_type": "code",
   "execution_count": 32,
   "metadata": {},
   "outputs": [
    {
     "data": {
      "text/plain": [
       "236.0"
      ]
     },
     "execution_count": 32,
     "metadata": {},
     "output_type": "execute_result"
    }
   ],
   "source": [
    "cv2.arcLength(cnt, True) # 폐곡선 도형을 만들어 둘레 길이 구함"
   ]
  },
  {
   "cell_type": "code",
   "execution_count": 33,
   "metadata": {},
   "outputs": [
    {
     "data": {
      "text/plain": [
       "148.0"
      ]
     },
     "execution_count": 33,
     "metadata": {},
     "output_type": "execute_result"
    }
   ],
   "source": [
    "cv2.arcLength(cnt, False) # 시작점과 끝점을 연결하지 않고 둘레 길이 구함"
   ]
  },
  {
   "cell_type": "markdown",
   "metadata": {},
   "source": [
    "# 경계 근사와 경계상자 찾기"
   ]
  },
  {
   "cell_type": "markdown",
   "metadata": {},
   "source": [
    "## 경계 근사"
   ]
  },
  {
   "cell_type": "markdown",
   "metadata": {},
   "source": [
    "### cv2.approxPolyDP()"
   ]
  },
  {
   "cell_type": "code",
   "execution_count": 34,
   "metadata": {},
   "outputs": [
    {
     "data": {
      "image/png": "[encoded data removed]",
      "text/plain": [
       "<Figure size 864x288 with 3 Axes>"
      ]
     },
     "metadata": {},
     "output_type": "display_data"
    }
   ],
   "source": [
    "import cv2\n",
    "import numpy as np\n",
    "from matplotlib import pyplot as plt\n",
    "\n",
    "img = cv2.imread('images/star.png')\n",
    "img1 = img.copy()\n",
    "img2 = img.copy()\n",
    "\n",
    "imgray = cv2.cvtColor(img,cv2.COLOR_BGR2GRAY)\n",
    "ret, bin_img  = cv2.threshold(imgray,127,255,0)\n",
    "\n",
    "contours, hierachy = cv2.findContours(bin_img, cv2.RETR_TREE, cv2.CHAIN_APPROX_SIMPLE)\n",
    "cont = contours[0]\n",
    "\n",
    "epsilon1 = 0.01*cv2.arcLength(cont, True)\n",
    "epsilon2 = 0.05*cv2.arcLength(cont, True)\n",
    "\n",
    "approx1 = cv2.approxPolyDP(cont, epsilon1, True)\n",
    "approx2 = cv2.approxPolyDP(cont, epsilon2, True)\n",
    "\n",
    "cv2.drawContours(img, [cont], 0, (0,255,0), 5)\n",
    "cv2.drawContours(img1, [approx1], 0,(255,0,0), 5)\n",
    "cv2.drawContours(img2, [approx2], 0,(255,0,0), 5)\n",
    "\n",
    "titles = ['Original', '1%', '5%']\n",
    "images = [img, img1, img2]\n",
    " \n",
    "plt.figure(figsize=(12, 4))\n",
    "for i in range(3):\n",
    "    plt.subplot(1,3,i+1)\n",
    "    plt.title(titles[i])\n",
    "    plt.imshow(images[i])\n",
    "    plt.xticks([])\n",
    "    plt.yticks([])\n",
    "plt.show()"
   ]
  },
  {
   "cell_type": "markdown",
   "metadata": {},
   "source": [
    "### cv2.convexHull()"
   ]
  },
  {
   "cell_type": "code",
   "execution_count": 35,
   "metadata": {},
   "outputs": [
    {
     "data": {
      "image/png": "[encoded data removed]",
      "text/plain": [
       "<Figure size 432x288 with 2 Axes>"
      ]
     },
     "metadata": {},
     "output_type": "display_data"
    }
   ],
   "source": [
    "import cv2\n",
    "import numpy as np\n",
    "from matplotlib import pyplot as plt\n",
    "\n",
    "img = cv2.imread('images/star.png')\n",
    "img1 = img.copy()\n",
    "\n",
    "imgray = cv2.cvtColor(img, cv2.COLOR_BGR2GRAY)\n",
    "ret, bin_img  = cv2.threshold(imgray, 127, 255, cv2.THRESH_BINARY_INV)\n",
    "\n",
    "contours, hierachy = cv2.findContours(bin_img, cv2.RETR_TREE, cv2.CHAIN_APPROX_SIMPLE)\n",
    "\n",
    "contour = contours[1]    # 1이 별 모양 주변의 contour \n",
    "hull = cv2.convexHull(contour)\n",
    "\n",
    "cv2.drawContours(img1, [hull], 0, (0,255,0), 5)\n",
    "\n",
    "titles = ['Original','Convex Hull']\n",
    "images = [img, img1]\n",
    "\n",
    "for i in range(2):\n",
    "    plt.subplot(1, 2, i+1)\n",
    "    plt.title(titles[i])\n",
    "    plt.imshow(images[i])\n",
    "    plt.xticks([])\n",
    "    plt.yticks([])\n",
    "\n",
    "plt.show()"
   ]
  },
  {
   "cell_type": "markdown",
   "metadata": {},
   "source": [
    "## 경계상자 찾기"
   ]
  },
  {
   "cell_type": "markdown",
   "metadata": {},
   "source": [
    "### cv2.boundignRect()"
   ]
  },
  {
   "cell_type": "markdown",
   "metadata": {},
   "source": [
    "### cv2.minAreaRect()"
   ]
  },
  {
   "cell_type": "markdown",
   "metadata": {},
   "source": [
    "### v2.minEnclosingCircle()"
   ]
  },
  {
   "cell_type": "markdown",
   "metadata": {},
   "source": [
    "### cv2.fitEllipse()"
   ]
  },
  {
   "cell_type": "code",
   "execution_count": 36,
   "metadata": {},
   "outputs": [
    {
     "name": "stdout",
     "output_type": "stream",
     "text": [
      "사각형 회전각도: 49.02826690673828\n",
      "타원형 회전각도: 135.7649688720703\n"
     ]
    },
    {
     "data": {
      "image/png": "[encoded data removed]",
      "text/plain": [
       "<Figure size 864x288 with 5 Axes>"
      ]
     },
     "metadata": {},
     "output_type": "display_data"
    }
   ],
   "source": [
    "import cv2\n",
    "import numpy as np\n",
    "from matplotlib import pyplot as plt\n",
    "\n",
    "img = cv2.imread('images/lightning.png')\n",
    "imgray = cv2.cvtColor(img, cv2.COLOR_BGR2GRAY)\n",
    "ret, bin_img = cv2.threshold(imgray,127,255,cv2.THRESH_BINARY)\n",
    "\n",
    "contours, hierachy = cv2.findContours(bin_img, cv2.RETR_TREE, cv2.CHAIN_APPROX_SIMPLE)\n",
    "cont = contours[1] # 이 도형의 0번째 컨투어는 이미지 전체 \n",
    " \n",
    "x, y, w, h = cv2.boundingRect(cont)\n",
    "img_rect = cv2.rectangle(img.copy(), (x,y), (x+w,y+h), (0,255,0), 3)\n",
    "\n",
    "rect = cv2.minAreaRect(cont) # 직사각형의 왼쪽상단좌표와 너비,높이, 회전각도\n",
    "print(\"사각형 회전각도:\", rect[-1])\n",
    "box = np.int_(cv2.boxPoints(rect))\n",
    "img_rotated_rect = cv2.drawContours(img.copy(), [box], 0, (0,0,255), 3)\n",
    "(x,y), radius = cv2.minEnclosingCircle(cont)\n",
    "center = (int(x), int(y))\n",
    "radius = int(radius)\n",
    "img_circle = cv2.circle(img.copy(), center, radius, (255,0,255), 3)\n",
    "\n",
    "ellipse = cv2.fitEllipse(cont)\n",
    "print(\"타원형 회전각도:\", ellipse[-1])\n",
    "img_ellipse = cv2.ellipse(img.copy(), ellipse, (255,0,0), 3)\n",
    "\n",
    "titles = ['Original', 'Rectangle', 'Rotated Rectangle','Circle','Ellipse']\n",
    "images = [img, img_rect, img_rotated_rect, img_circle, img_ellipse]\n",
    "plt.figure(figsize=(12,4))\n",
    "for i in range(5):\n",
    "    plt.subplot(1, 5, i+1), plt.imshow(images[i]), \n",
    "    plt.title(titles[i]), plt.xticks([]), plt.yticks([])\n",
    "plt.show()"
   ]
  },
  {
   "cell_type": "code",
   "execution_count": 37,
   "metadata": {},
   "outputs": [
    {
     "data": {
      "text/plain": [
       "True"
      ]
     },
     "execution_count": 37,
     "metadata": {},
     "output_type": "execute_result"
    }
   ],
   "source": [
    "cv2.isContourConvex(contours[0]) # 외곽선 contour line"
   ]
  },
  {
   "cell_type": "markdown",
   "metadata": {},
   "source": [
    "# OpenCV와 딥러닝을 이용한 객체 탐지"
   ]
  },
  {
   "cell_type": "markdown",
   "metadata": {},
   "source": [
    "## 필기체 숫자 데이터 불러오기"
   ]
  },
  {
   "cell_type": "code",
   "execution_count": 38,
   "metadata": {
    "scrolled": true
   },
   "outputs": [
    {
     "name": "stdout",
     "output_type": "stream",
     "text": [
      "(1000, 2000)\n"
     ]
    }
   ],
   "source": [
    "import cv2\n",
    "import numpy as np\n",
    "\n",
    "img = cv2.imread('images/digits.png', cv2.IMREAD_GRAYSCALE)\n",
    "print(img.shape)"
   ]
  },
  {
   "cell_type": "code",
   "execution_count": 39,
   "metadata": {},
   "outputs": [],
   "source": [
    "cv2.imshow(\"number\", img)\n",
    "cv2.waitKey(0)\n",
    "cv2.destroyAllWindows()"
   ]
  },
  {
   "cell_type": "code",
   "execution_count": 40,
   "metadata": {},
   "outputs": [],
   "source": [
    "cells = [np.hsplit(row,100) for row in np.vsplit(img,50)]\n",
    "x = np.array(cells)"
   ]
  },
  {
   "cell_type": "code",
   "execution_count": 41,
   "metadata": {},
   "outputs": [
    {
     "data": {
      "text/plain": [
       "(50, 100, 20, 20)"
      ]
     },
     "execution_count": 41,
     "metadata": {},
     "output_type": "execute_result"
    }
   ],
   "source": [
    "x.shape"
   ]
  },
  {
   "cell_type": "code",
   "execution_count": 42,
   "metadata": {},
   "outputs": [],
   "source": [
    "# x[0,0] # 숫자 0"
   ]
  },
  {
   "cell_type": "code",
   "execution_count": 43,
   "metadata": {},
   "outputs": [],
   "source": [
    "X = x[:,:].reshape(-1,400).astype(np.float32)\n",
    "y = np.repeat(np.arange(10),500)"
   ]
  },
  {
   "cell_type": "code",
   "execution_count": 44,
   "metadata": {},
   "outputs": [],
   "source": [
    "from sklearn.model_selection import train_test_split\n",
    "train_X, test_X, train_y, test_y = train_test_split(X, y, test_size=0.3)"
   ]
  },
  {
   "cell_type": "code",
   "execution_count": 45,
   "metadata": {},
   "outputs": [
    {
     "data": {
      "text/plain": [
       "array([8, 1, 5, 9, 8, 4, 1, 7, 8, 6, 4, 1, 9, 0, 5, 5, 5, 8, 7, 2, 7, 5,\n",
       "       8, 6, 3, 1, 7, 7, 0, 0, 5, 1, 3, 0, 6, 4, 1, 5, 5, 1, 1, 9, 1, 7,\n",
       "       5, 5, 7, 1, 1, 3, 9, 9, 7, 4, 2, 5, 1, 0, 0, 4, 2, 6, 7, 8, 0, 9,\n",
       "       2, 1, 9, 6, 5, 4, 6, 0, 5, 2, 4, 0, 5, 3, 1, 1, 2, 0, 9, 3, 9, 0,\n",
       "       8, 6, 9, 8, 9, 2, 7, 0, 5, 1, 0, 8])"
      ]
     },
     "execution_count": 45,
     "metadata": {},
     "output_type": "execute_result"
    }
   ],
   "source": [
    "test_y[:100]"
   ]
  },
  {
   "cell_type": "markdown",
   "metadata": {},
   "source": [
    "## 머신러닝 분류 모형 만들기"
   ]
  },
  {
   "cell_type": "code",
   "execution_count": 46,
   "metadata": {},
   "outputs": [],
   "source": [
    "from sklearn.ensemble import RandomForestClassifier\n",
    "model = RandomForestClassifier()"
   ]
  },
  {
   "cell_type": "code",
   "execution_count": 47,
   "metadata": {},
   "outputs": [
    {
     "data": {
      "text/plain": [
       "RandomForestClassifier()"
      ]
     },
     "execution_count": 47,
     "metadata": {},
     "output_type": "execute_result"
    }
   ],
   "source": [
    "model.fit(train_X, train_y)"
   ]
  },
  {
   "cell_type": "code",
   "execution_count": 48,
   "metadata": {
    "scrolled": true
   },
   "outputs": [
    {
     "data": {
      "text/plain": [
       "0.944"
      ]
     },
     "execution_count": 48,
     "metadata": {},
     "output_type": "execute_result"
    }
   ],
   "source": [
    "model.score(test_X, test_y)"
   ]
  },
  {
   "cell_type": "markdown",
   "metadata": {},
   "source": [
    "## 머신러닝 모델 저장하기"
   ]
  },
  {
   "cell_type": "code",
   "execution_count": 49,
   "metadata": {},
   "outputs": [],
   "source": [
    "import pickle\n",
    "with open(\"number.model\", \"wb\") as f:\n",
    "    pickle.dump(model, f)"
   ]
  },
  {
   "cell_type": "code",
   "execution_count": 50,
   "metadata": {},
   "outputs": [],
   "source": [
    "import pickle\n",
    "with open(\"number.model\", \"rb\") as f:\n",
    "    model = pickle.load(f)"
   ]
  },
  {
   "cell_type": "markdown",
   "metadata": {},
   "source": [
    "## 웹 카메라를 이용한 실시간 필기체 숫자 인식하기"
   ]
  },
  {
   "cell_type": "code",
   "execution_count": 51,
   "metadata": {},
   "outputs": [],
   "source": [
    "import pickle\n",
    "with open(\"number.model\", \"rb\") as f:\n",
    "    model = pickle.load(f)    "
   ]
  },
  {
   "cell_type": "code",
   "execution_count": 52,
   "metadata": {},
   "outputs": [],
   "source": [
    "import cv2\n",
    "cap = cv2.VideoCapture(0)\n",
    "if cap.isOpened():\n",
    "    while True:\n",
    "        ret, img = cap.read()\n",
    "        if ret:\n",
    "            g_img = cv2.cvtColor(img, cv2.COLOR_BGR2GRAY)\n",
    "            thr, bin_img = cv2.threshold(g_img, 110, 255, cv2.THRESH_BINARY_INV)\n",
    "            contours, hierarchy = cv2.findContours(bin_img, cv2.RETR_EXTERNAL, \n",
    "                                                   cv2.CHAIN_APPROX_SIMPLE)\n",
    "            try:\n",
    "                for i in range(len(contours)):\n",
    "                    contour = contours[i]\n",
    "                    (x,y), radius = cv2.minEnclosingCircle(contour)\n",
    "                    if radius > 3:\n",
    "                        xs, xe = int(x-radius), int(x+radius)\n",
    "                        ys, ye = int(y-radius), int(y+radius)\n",
    "                        cv2.rectangle(bin_img, (xs,ys), (xe,ye), (200,0,0), 1)\n",
    "                        roi = bin_img[ys:ye, xs:xe]\n",
    "                        dst = cv2.resize(roi, dsize=(50, 50), interpolation=cv2.INTER_AREA)\n",
    "                        dst = cv2.resize(dst, dsize=(16, 16), interpolation=cv2.INTER_AREA)\n",
    "                        A = np.zeros((20,20))\n",
    "                        A[2:-2,2:-2] = dst[:,:]\n",
    "                        A = A.reshape(-1,400)\n",
    "                        num = model.predict(A)\n",
    "                        cv2.putText(bin_img, str(num), (xs, ys), cv2.FONT_HERSHEY_PLAIN, 2, (200,0,0))\n",
    "            except Exception as e:\n",
    "                # print(e)\n",
    "                pass\n",
    "            cv2.imshow(\"Image\", bin_img)\n",
    "            if cv2.waitKey(1)&0xFF == 27: # ESC\n",
    "                break\n",
    "        else:\n",
    "            print(\"No Frame\")\n",
    "            break\n",
    "else :\n",
    "    print(\"Camera not opened\")\n",
    "    \n",
    "cap.release()\n",
    "cv2.destroyAllWindows()"
   ]
  },
  {
   "cell_type": "code",
   "execution_count": null,
   "metadata": {},
   "outputs": [],
   "source": []
  }
 ],
 "metadata": {
  "kernelspec": {
   "display_name": "Python 3 (ipykernel)",
   "language": "python",
   "name": "python3"
  },
  "language_info": {
   "codemirror_mode": {
    "name": "ipython",
    "version": 3
   },
   "file_extension": ".py",
   "mimetype": "text/x-python",
   "name": "python",
   "nbconvert_exporter": "python",
   "pygments_lexer": "ipython3",
   "version": "3.9.12"
  },
  "toc": {
   "base_numbering": 1,
   "nav_menu": {},
   "number_sections": true,
   "sideBar": true,
   "skip_h1_title": false,
   "title_cell": "Table of Contents",
   "title_sidebar": "Contents",
   "toc_cell": false,
   "toc_position": {
    "height": "556px",
    "left": "21px",
    "top": "66px",
    "width": "289.75px"
   },
   "toc_section_display": true,
   "toc_window_display": true
  },
  "varInspector": {
   "cols": {
    "lenName": 16,
    "lenType": 16,
    "lenVar": 40
   },
   "kernels_config": {
    "python": {
     "delete_cmd_postfix": "",
     "delete_cmd_prefix": "del ",
     "library": "var_list.py",
     "varRefreshCmd": "print(var_dic_list())"
    },
    "r": {
     "delete_cmd_postfix": ") ",
     "delete_cmd_prefix": "rm(",
     "library": "var_list.r",
     "varRefreshCmd": "cat(var_dic_list()) "
    }
   },
   "types_to_exclude": [
    "module",
    "function",
    "builtin_function_or_method",
    "instance",
    "_Feature"
   ],
   "window_display": false
  }
 },
 "nbformat": 4,
 "nbformat_minor": 2
}
